{
  "nbformat": 4,
  "nbformat_minor": 0,
  "metadata": {
    "colab": {
      "name": "Qin2016_neupy.ipynb",
      "provenance": [],
      "collapsed_sections": [],
      "authorship_tag": "ABX9TyONZ3FIrcaZ6VGrkWh+O+sr",
      "include_colab_link": true
    },
    "kernelspec": {
      "name": "python3",
      "display_name": "Python 3"
    }
  },
  "cells": [
    {
      "cell_type": "markdown",
      "metadata": {
        "id": "view-in-github",
        "colab_type": "text"
      },
      "source": [
        "<a href=\"https://colab.research.google.com/github/AnguillaJaponica/Qin2016/blob/master/Qin2016_neupy.ipynb\" target=\"_parent\"><img src=\"https://colab.research.google.com/assets/colab-badge.svg\" alt=\"Open In Colab\"/></a>"
      ]
    },
    {
      "cell_type": "code",
      "metadata": {
        "id": "yDm0pm7sLsh4",
        "outputId": "dd8d213f-852d-420c-802b-a09a8586161e",
        "colab": {
          "base_uri": "https://localhost:8080/"
        }
      },
      "source": [
        "!pip install neupy"
      ],
      "execution_count": 228,
      "outputs": [
        {
          "output_type": "stream",
          "text": [
            "Requirement already satisfied: neupy in /usr/local/lib/python3.6/dist-packages (0.8.2)\n",
            "Requirement already satisfied: h5py in /usr/local/lib/python3.6/dist-packages (from neupy) (2.10.0)\n",
            "Requirement already satisfied: tensorflow<1.14.0,>=1.10.1 in /usr/local/lib/python3.6/dist-packages (from neupy) (1.13.2)\n",
            "Requirement already satisfied: numpy>=1.13.3 in /usr/local/lib/python3.6/dist-packages (from neupy) (1.18.5)\n",
            "Requirement already satisfied: progressbar2==3.34.3 in /usr/local/lib/python3.6/dist-packages (from neupy) (3.34.3)\n",
            "Requirement already satisfied: scipy>=0.19.0 in /usr/local/lib/python3.6/dist-packages (from neupy) (1.4.1)\n",
            "Requirement already satisfied: graphviz==0.5.1 in /usr/local/lib/python3.6/dist-packages (from neupy) (0.5.1)\n",
            "Requirement already satisfied: matplotlib>=1.5.1 in /usr/local/lib/python3.6/dist-packages (from neupy) (3.2.2)\n",
            "Requirement already satisfied: six in /usr/local/lib/python3.6/dist-packages (from h5py->neupy) (1.15.0)\n",
            "Requirement already satisfied: keras-applications>=1.0.6 in /usr/local/lib/python3.6/dist-packages (from tensorflow<1.14.0,>=1.10.1->neupy) (1.0.8)\n",
            "Requirement already satisfied: wheel>=0.26 in /usr/local/lib/python3.6/dist-packages (from tensorflow<1.14.0,>=1.10.1->neupy) (0.35.1)\n",
            "Requirement already satisfied: tensorboard<1.14.0,>=1.13.0 in /usr/local/lib/python3.6/dist-packages (from tensorflow<1.14.0,>=1.10.1->neupy) (1.13.1)\n",
            "Requirement already satisfied: keras-preprocessing>=1.0.5 in /usr/local/lib/python3.6/dist-packages (from tensorflow<1.14.0,>=1.10.1->neupy) (1.1.2)\n",
            "Requirement already satisfied: grpcio>=1.8.6 in /usr/local/lib/python3.6/dist-packages (from tensorflow<1.14.0,>=1.10.1->neupy) (1.33.2)\n",
            "Requirement already satisfied: protobuf>=3.6.1 in /usr/local/lib/python3.6/dist-packages (from tensorflow<1.14.0,>=1.10.1->neupy) (3.12.4)\n",
            "Requirement already satisfied: termcolor>=1.1.0 in /usr/local/lib/python3.6/dist-packages (from tensorflow<1.14.0,>=1.10.1->neupy) (1.1.0)\n",
            "Requirement already satisfied: absl-py>=0.1.6 in /usr/local/lib/python3.6/dist-packages (from tensorflow<1.14.0,>=1.10.1->neupy) (0.10.0)\n",
            "Requirement already satisfied: astor>=0.6.0 in /usr/local/lib/python3.6/dist-packages (from tensorflow<1.14.0,>=1.10.1->neupy) (0.8.1)\n",
            "Requirement already satisfied: tensorflow-estimator<1.14.0rc0,>=1.13.0 in /usr/local/lib/python3.6/dist-packages (from tensorflow<1.14.0,>=1.10.1->neupy) (1.13.0)\n",
            "Requirement already satisfied: gast>=0.2.0 in /usr/local/lib/python3.6/dist-packages (from tensorflow<1.14.0,>=1.10.1->neupy) (0.3.3)\n",
            "Requirement already satisfied: python-utils>=2.1.0 in /usr/local/lib/python3.6/dist-packages (from progressbar2==3.34.3->neupy) (2.4.0)\n",
            "Requirement already satisfied: python-dateutil>=2.1 in /usr/local/lib/python3.6/dist-packages (from matplotlib>=1.5.1->neupy) (2.8.1)\n",
            "Requirement already satisfied: kiwisolver>=1.0.1 in /usr/local/lib/python3.6/dist-packages (from matplotlib>=1.5.1->neupy) (1.3.1)\n",
            "Requirement already satisfied: pyparsing!=2.0.4,!=2.1.2,!=2.1.6,>=2.0.1 in /usr/local/lib/python3.6/dist-packages (from matplotlib>=1.5.1->neupy) (2.4.7)\n",
            "Requirement already satisfied: cycler>=0.10 in /usr/local/lib/python3.6/dist-packages (from matplotlib>=1.5.1->neupy) (0.10.0)\n",
            "Requirement already satisfied: werkzeug>=0.11.15 in /usr/local/lib/python3.6/dist-packages (from tensorboard<1.14.0,>=1.13.0->tensorflow<1.14.0,>=1.10.1->neupy) (1.0.1)\n",
            "Requirement already satisfied: markdown>=2.6.8 in /usr/local/lib/python3.6/dist-packages (from tensorboard<1.14.0,>=1.13.0->tensorflow<1.14.0,>=1.10.1->neupy) (3.3.3)\n",
            "Requirement already satisfied: setuptools in /usr/local/lib/python3.6/dist-packages (from protobuf>=3.6.1->tensorflow<1.14.0,>=1.10.1->neupy) (50.3.2)\n",
            "Requirement already satisfied: mock>=2.0.0 in /usr/local/lib/python3.6/dist-packages (from tensorflow-estimator<1.14.0rc0,>=1.13.0->tensorflow<1.14.0,>=1.10.1->neupy) (4.0.2)\n",
            "Requirement already satisfied: importlib-metadata; python_version < \"3.8\" in /usr/local/lib/python3.6/dist-packages (from markdown>=2.6.8->tensorboard<1.14.0,>=1.13.0->tensorflow<1.14.0,>=1.10.1->neupy) (2.0.0)\n",
            "Requirement already satisfied: zipp>=0.5 in /usr/local/lib/python3.6/dist-packages (from importlib-metadata; python_version < \"3.8\"->markdown>=2.6.8->tensorboard<1.14.0,>=1.13.0->tensorflow<1.14.0,>=1.10.1->neupy) (3.4.0)\n"
          ],
          "name": "stdout"
        }
      ]
    },
    {
      "cell_type": "code",
      "metadata": {
        "id": "sd81-TOqJlqz"
      },
      "source": [
        "from sklearn import preprocessing\n",
        "import pandas as pd\n",
        "import numpy as np\n",
        "import tensorflow as tf\n",
        "import scipy.stats\n",
        "from matplotlib import pyplot as plt\n",
        "from matplotlib import cm\n",
        "from neupy.layers import *\n",
        "from neupy import algorithms"
      ],
      "execution_count": 229,
      "outputs": []
    },
    {
      "cell_type": "code",
      "metadata": {
        "id": "qAJ2syPDVoAa",
        "outputId": "2c20a27e-d7b2-4286-e6db-c4be3934df96",
        "colab": {
          "base_uri": "https://localhost:8080/"
        }
      },
      "source": [
        "# google driveをマウント。ファイルを置く場所に応じて、ディレクトリを変えてください。今はルートになってます。\n",
        "from google.colab import drive\n",
        "drive.mount('/content/drive')\n",
        "\n",
        "all_data = pd.read_csv('drive/My Drive/all_table3.csv') \n",
        "# 元のcsvが扱いづらかったので、a, b, cのカラムを分けてクエリっぽく使ってます。\n",
        "train_data = all_data[all_data['group'] == 'a']\n",
        "validation_data = all_data[all_data['group'] == 'b']\n",
        "test_data = all_data[all_data['group'] == 'c']\n",
        "\n",
        "# K値でやってみよう\n",
        "# sklearnのpreprocessing.MinMaxScalerを使って正規化。デフォルトは(0, 1)なので、論文の定義どおり(-1, 1)で出してくれるようにしています。\n",
        "\n",
        "# 訓練用\n",
        "trainX_Kvalue = preprocessing.MinMaxScaler(feature_range=(-1,1)).fit_transform(np.array(pd.concat([train_data['Temperature(K)_Kvalue'], train_data['Time(h)_Kvalue']], axis=1)).reshape(30, 2))\n",
        "trainY_Kvalue = preprocessing.MinMaxScaler(feature_range=(-1,1)).fit_transform(np.array(train_data['ΔK (%)']).reshape(-1, 1))\n",
        "# バリデーション用\n",
        "validationX_Kvalue = preprocessing.MinMaxScaler(feature_range=(-1,1)).fit_transform(np.array(pd.concat([validation_data['Temperature(K)_Kvalue'], validation_data['Time(h)_Kvalue']], axis=1)))\n",
        "validationY_Kvalue = preprocessing.MinMaxScaler(feature_range=(-1,1)).fit_transform(np.array(validation_data['ΔK (%)']).reshape(-1, 1))\n",
        "# テスト用\n",
        "testX_Kvalue = preprocessing.MinMaxScaler(feature_range=(-1,1)).fit_transform(np.array(pd.concat([test_data['Temperature(K)_Kvalue'], test_data['Time(h)_Kvalue']], axis=1)))\n",
        "testY_Kvalue = preprocessing.MinMaxScaler(feature_range=(-1,1)).fit_transform(np.array(test_data['ΔK (%)']).reshape(-1, 1))"
      ],
      "execution_count": 230,
      "outputs": [
        {
          "output_type": "stream",
          "text": [
            "Drive already mounted at /content/drive; to attempt to forcibly remount, call drive.mount(\"/content/drive\", force_remount=True).\n"
          ],
          "name": "stdout"
        }
      ]
    },
    {
      "cell_type": "markdown",
      "metadata": {
        "id": "3Pxqly6RNWx_"
      },
      "source": [
        ""
      ]
    },
    {
      "cell_type": "code",
      "metadata": {
        "id": "4Ivxoo8PL79Q",
        "outputId": "859656a1-1f76-48d9-ec90-3c4b91d8946c",
        "colab": {
          "base_uri": "https://localhost:8080/"
        }
      },
      "source": [
        "# 入力: [温度, 保存期間]\n",
        "n_inputs = 2\n",
        "# 出力: [K値]\n",
        "n_outputs = 1\n",
        "\n",
        "network = join(Input(n_inputs), Sigmoid(7), Linear(n_outputs))\n",
        "# 最適化アルゴリズムはLM法。学習率muはチューニングしてみてください。\n",
        "optimizer = algorithms.LevenbergMarquardt(network, verbose=True, show_epoch=5, mu=0.003)"
      ],
      "execution_count": 231,
      "outputs": [
        {
          "output_type": "stream",
          "text": [
            "\n",
            "Main information\n",
            "\n",
            "[ALGORITHM] LevenbergMarquardt\n",
            "\r\n",
            "[OPTION] loss = mse\n",
            "[OPTION] mu = 0.003\n",
            "[OPTION] mu_update_factor = 1.2\n",
            "[OPTION] show_epoch = 5\n",
            "[OPTION] shuffle_data = False\n",
            "[OPTION] signals = None\n",
            "[OPTION] target = Tensor(\"placeholder/target/linear-33:0\", shape=(?, 1), dtype=float32)\n",
            "[OPTION] verbose = True\n",
            "\r\n",
            "[TENSORFLOW] Initializing Tensorflow variables and functions.\n",
            "[TENSORFLOW] Initialization finished successfully. It took 12.97 seconds\n"
          ],
          "name": "stdout"
        }
      ]
    },
    {
      "cell_type": "code",
      "metadata": {
        "id": "e5lU_Ro0NPjV",
        "outputId": "7851ed96-35be-4d25-ad67-12d90e6b1233",
        "colab": {
          "base_uri": "https://localhost:8080/"
        }
      },
      "source": [
        "optimizer.train(trainX_Kvalue, trainY_Kvalue, validationX_Kvalue, validationY_Kvalue, epochs=30)"
      ],
      "execution_count": 232,
      "outputs": [
        {
          "output_type": "stream",
          "text": [
            "\r                                                                               \r"
          ],
          "name": "stderr"
        },
        {
          "output_type": "stream",
          "text": [
            "#1 : [2 sec] train: 0.665953, valid: 1.410910\n",
            "#5 : [4 ms] train: 0.511575, valid: 0.099510\n",
            "#10 : [3 ms] train: 0.039746, valid: 0.354470\n",
            "#15 : [3 ms] train: 0.018765, valid: 0.320377\n",
            "#20 : [4 ms] train: 0.009849, valid: 0.514671\n",
            "#25 : [4 ms] train: 0.008669, valid: 0.412855\n",
            "#30 : [3 ms] train: 0.007646, valid: 0.352736\n"
          ],
          "name": "stdout"
        },
        {
          "output_type": "stream",
          "text": [
            "\r                                                                               \r\r                                                                               \r\r                                                                               \r\r                                                                               \r\r                                                                               \r\r                                                                               \r\r                                                                               \r\r                                                                               \r\r                                                                               \r\r                                                                               \r\r                                                                               \r\r                                                                               \r\r                                                                               \r\r                                                                               \r\r                                                                               \r\r                                                                               \r\r                                                                               \r\r                                                                               \r\r                                                                               \r\r                                                                               \r\r                                                                               \r\r                                                                               \r\r                                                                               \r\r                                                                               \r\r                                                                               \r\r                                                                               \r\r                                                                               \r\r                                                                               \r\r                                                                               \r"
          ],
          "name": "stderr"
        }
      ]
    },
    {
      "cell_type": "code",
      "metadata": {
        "id": "6FCY9PBQNS7y",
        "outputId": "812c219b-4fad-4c5f-b05f-b4d708f08281",
        "colab": {
          "base_uri": "https://localhost:8080/",
          "height": 497
        }
      },
      "source": [
        "# 誤差をプロットして、チューニングしやすいようにする。\n",
        "optimizer.plot_errors()"
      ],
      "execution_count": 233,
      "outputs": [
        {
          "output_type": "display_data",
          "data": {
            "image/png": "[encoded data removed]",
            "text/plain": [
              "<Figure size 864x576 with 1 Axes>"
            ]
          },
          "metadata": {
            "tags": [],
            "needs_background": "light"
          }
        }
      ]
    },
    {
      "cell_type": "code",
      "metadata": {
        "id": "UMuFcQN9NVm7",
        "outputId": "5c0513b5-845b-448b-b24b-c660ffb2c911",
        "colab": {
          "base_uri": "https://localhost:8080/"
        }
      },
      "source": [
        "import numpy as np\n",
        "\n",
        "def rmsle(expected, predicted):\n",
        "    log_expected = np.log1p(expected + 1)\n",
        "    log_predicted = np.log1p(predicted + 1)\n",
        "    squared_log_error = np.square(log_expected - log_predicted)\n",
        "    return np.sqrt(np.mean(squared_log_error))\n",
        "\n",
        "# 予測結果\n",
        "predicted_Kvalue_test = optimizer.predict(testX_Kvalue)\n",
        "predicted_Kvalue_validation = optimizer.predict(validationX_Kvalue)\n",
        "predicted_Kvalue_train = optimizer.predict(trainX_Kvalue)"
      ],
      "execution_count": 234,
      "outputs": [
        {
          "output_type": "stream",
          "text": [
            "\r                                                                               \r\r                                                                               \r\r                                                                               \r"
          ],
          "name": "stderr"
        }
      ]
    },
    {
      "cell_type": "code",
      "metadata": {
        "id": "TPE98kL6fDnC",
        "outputId": "79603d06-fcf6-4ca8-82f4-10f881b075be",
        "colab": {
          "base_uri": "https://localhost:8080/",
          "height": 300
        }
      },
      "source": [
        "# train, validation, testそれぞれについて散布図をかく。\n",
        "fig = plt.figure()\n",
        "axis = fig.add_subplot(111, xlim=(-1, 1), ylim=(-1, 1), xlabel='actual K value', ylabel='predicted K value')\n",
        "plt.scatter(testY_Kvalue, predicted_Kvalue_test, marker='o', label='test', color=\"red\")\n",
        "plt.scatter(validationY_Kvalue, predicted_Kvalue_validation, marker='o', label='validation', color=\"green\")\n",
        "plt.scatter(trainY_Kvalue, predicted_Kvalue_train, marker='o', label='train', color=\"blue\")\n",
        "plt.legend(loc='upper left')"
      ],
      "execution_count": 235,
      "outputs": [
        {
          "output_type": "execute_result",
          "data": {
            "text/plain": [
              "<matplotlib.legend.Legend at 0x7f5ab50b4d68>"
            ]
          },
          "metadata": {
            "tags": []
          },
          "execution_count": 235
        },
        {
          "output_type": "display_data",
          "data": {
            "image/png": "[encoded data removed]",
            "text/plain": [
              "<Figure size 432x288 with 1 Axes>"
            ]
          },
          "metadata": {
            "tags": [],
            "needs_background": "light"
          }
        }
      ]
    }
  ]
}